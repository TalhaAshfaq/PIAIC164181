{
 "cells": [
  {
   "cell_type": "markdown",
   "metadata": {},
   "source": [
    "Exercise 3-1: Names"
   ]
  },
  {
   "cell_type": "code",
   "execution_count": 2,
   "metadata": {},
   "outputs": [
    {
     "name": "stdout",
     "output_type": "stream",
     "text": [
      "Sohail\n",
      "Mudassar\n",
      "Zeeshan\n",
      "Ali\n",
      "Wasiq\n"
     ]
    }
   ],
   "source": [
    "# storing friends names in a list and print each name with the help of for loop \n",
    "\n",
    "names: list = [\"Sohail\", \"Mudassar\", \"Zeeshan\", \"Ali\", \"Wasiq\"]\n",
    "\n",
    "for i in names[0:5]:\n",
    "    print(i)"
   ]
  },
  {
   "cell_type": "markdown",
   "metadata": {},
   "source": [
    "Exercise 3-2: Greetings"
   ]
  },
  {
   "cell_type": "code",
   "execution_count": 3,
   "metadata": {},
   "outputs": [
    {
     "name": "stdout",
     "output_type": "stream",
     "text": [
      "Asslam O Alaikum! Sohail How are You\n",
      "Asslam O Alaikum! Mudassar How are You\n",
      "Asslam O Alaikum! Zeeshan How are You\n",
      "Asslam O Alaikum! Ali How are You\n",
      "Asslam O Alaikum! Wasiq How are You\n"
     ]
    }
   ],
   "source": [
    "# Printing a greeting message to list of friends with the help of for loop\n",
    "for i in names[0:5]:\n",
    "    print(f\"Asslam O Alaikum! {i} How are You\" )\n"
   ]
  },
  {
   "cell_type": "markdown",
   "metadata": {},
   "source": [
    "Exercise 3-3: Your Own List"
   ]
  },
  {
   "cell_type": "code",
   "execution_count": 4,
   "metadata": {},
   "outputs": [
    {
     "name": "stdout",
     "output_type": "stream",
     "text": [
      "I really like the comfort of Yamaha YBR bike\n",
      "The fuel Average and comfort both are good in Honda Pridor bike\n",
      "The car which saves your money is Suzuki Mehran\n",
      "According to me a good durable car is Toyota Gli\n"
     ]
    }
   ],
   "source": [
    "# storing favorite vehicles in a list and statements also in a list, concat both in while toop to print them.\n",
    "fav_vehicle: list = [\"Yamaha YBR bike\", \"Honda Pridor bike\", \"Suzuki Mehran\", \"Toyota Gli\"]\n",
    "statements: list = [\"I really like the comfort of\",\"The fuel Average and comfort both are good in\",\"The car which saves your money is\",\"According to me a good durable car is\"]\n",
    "\n",
    "i= 0\n",
    "j = 0\n",
    "k = 0\n",
    "while i < 4:\n",
    "    print(statements[j] +\" \"+ fav_vehicle[k])\n",
    "    j+=1\n",
    "    k+=1\n",
    "    i+=1\n"
   ]
  },
  {
   "cell_type": "markdown",
   "metadata": {},
   "source": [
    "Exercise 3-4: Guest List, Exercise 3-5: Changing Guest List,\n",
    "Exercise 3-6: More Guests, Exercise 3-7: Shrinking Guest List.\n"
   ]
  },
  {
   "cell_type": "code",
   "execution_count": 5,
   "metadata": {},
   "outputs": [
    {
     "name": "stdout",
     "output_type": "stream",
     "text": [
      "Asslam O Alaikum!\n",
      "Dear Abu Jaan\n",
      "Hope you are doing well, i am inviting you to the dinner at Grandpalce Marquee Time: 8pm.\n",
      "Thank You\n",
      "Regards: Talha Ashfaq\n",
      "\n",
      "\n",
      "Asslam O Alaikum!\n",
      "Dear Abdul Ghaffar\n",
      "Hope you are doing well, i am inviting you to the dinner at Grandpalce Marquee Time: 8pm.\n",
      "Thank You\n",
      "Regards: Talha Ashfaq\n",
      "\n",
      "\n",
      "Asslam O Alaikum!\n",
      "Dear Ahsan\n",
      "Hope you are doing well, i am inviting you to the dinner at Grandpalce Marquee Time: 8pm.\n",
      "Thank You\n",
      "Regards: Talha Ashfaq\n",
      "\n",
      "\n",
      "Asslam O Alaikum!\n",
      "Dear Noman\n",
      "Hope you are doing well, i am inviting you to the dinner at Grandpalce Marquee Time: 8pm.\n",
      "Thank You\n",
      "Regards: Talha Ashfaq\n",
      "\n",
      "\n",
      "Asslam O Alaikum!\n",
      "Dear Sohail\n",
      "Hope you are doing well, i am inviting you to the dinner at Grandpalce Marquee Time: 8pm.\n",
      "Thank You\n",
      "Regards: Talha Ashfaq\n",
      "\n",
      "\n",
      "Oo ho! Noman is not coming to the dinner\n",
      "\n",
      "Asslam O Alaikum!\n",
      "Dear Abu Jaan\n",
      "Hope you are doing well, i am inviting you to the dinner at Grandpalce Marquee Time: 8pm.\n",
      "Thank You\n",
      "Regards: Talha Ashfaq\n",
      "\n",
      "\n",
      "Asslam O Alaikum!\n",
      "Dear Abdul Ghaffar\n",
      "Hope you are doing well, i am inviting you to the dinner at Grandpalce Marquee Time: 8pm.\n",
      "Thank You\n",
      "Regards: Talha Ashfaq\n",
      "\n",
      "\n",
      "Asslam O Alaikum!\n",
      "Dear Ahsan\n",
      "Hope you are doing well, i am inviting you to the dinner at Grandpalce Marquee Time: 8pm.\n",
      "Thank You\n",
      "Regards: Talha Ashfaq\n",
      "\n",
      "\n",
      "Asslam O Alaikum!\n",
      "Dear Haseeb Ahmad\n",
      "Hope you are doing well, i am inviting you to the dinner at Grandpalce Marquee Time: 8pm.\n",
      "Thank You\n",
      "Regards: Talha Ashfaq\n",
      "\n",
      "\n",
      "Asslam O Alaikum!\n",
      "Dear Sohail\n",
      "Hope you are doing well, i am inviting you to the dinner at Grandpalce Marquee Time: 8pm.\n",
      "Thank You\n",
      "Regards: Talha Ashfaq\n",
      "\n",
      "\n",
      "i got a bigger table for dinner so i am inviting three more peoples to dinner.\n",
      "\n",
      "Asslam O Alaikum!\n",
      "Dear Mukhtar Ali Bodla\n",
      "Hope you are doing well, i am inviting you to the dinner at Grandpalce Marquee Time: 8pm.\n",
      "Thank You\n",
      "Regards: Talha Ashfaq\n",
      "\n",
      "\n",
      "Asslam O Alaikum!\n",
      "Dear Abu Jaan\n",
      "Hope you are doing well, i am inviting you to the dinner at Grandpalce Marquee Time: 8pm.\n",
      "Thank You\n",
      "Regards: Talha Ashfaq\n",
      "\n",
      "\n",
      "Asslam O Alaikum!\n",
      "Dear Abdul Ghaffar\n",
      "Hope you are doing well, i am inviting you to the dinner at Grandpalce Marquee Time: 8pm.\n",
      "Thank You\n",
      "Regards: Talha Ashfaq\n",
      "\n",
      "\n",
      "Asslam O Alaikum!\n",
      "Dear Asif Bodla\n",
      "Hope you are doing well, i am inviting you to the dinner at Grandpalce Marquee Time: 8pm.\n",
      "Thank You\n",
      "Regards: Talha Ashfaq\n",
      "\n",
      "\n",
      "Asslam O Alaikum!\n",
      "Dear Ahsan\n",
      "Hope you are doing well, i am inviting you to the dinner at Grandpalce Marquee Time: 8pm.\n",
      "Thank You\n",
      "Regards: Talha Ashfaq\n",
      "\n",
      "\n",
      "Asslam O Alaikum!\n",
      "Dear Haseeb Ahmad\n",
      "Hope you are doing well, i am inviting you to the dinner at Grandpalce Marquee Time: 8pm.\n",
      "Thank You\n",
      "Regards: Talha Ashfaq\n",
      "\n",
      "\n",
      "Asslam O Alaikum!\n",
      "Dear Sohail\n",
      "Hope you are doing well, i am inviting you to the dinner at Grandpalce Marquee Time: 8pm.\n",
      "Thank You\n",
      "Regards: Talha Ashfaq\n",
      "\n",
      "\n",
      "Asslam O Alaikum!\n",
      "Dear Hamid Bodla\n",
      "Hope you are doing well, i am inviting you to the dinner at Grandpalce Marquee Time: 8pm.\n",
      "Thank You\n",
      "Regards: Talha Ashfaq\n",
      "\n",
      "\n",
      "you can invite only two people for dinner\n",
      "\n",
      "Asslam O Alaikum!\n",
      "Dear Hamid Bodla\n",
      "i am really Sorry to say that i can't invite you to the dinner due to some reasons.\n",
      "Thank You\n",
      "Regards: Talha Ashfaq\n",
      "\n",
      "Asslam O Alaikum!\n",
      "Dear Sohail\n",
      "i am really Sorry to say that i can't invite you to the dinner due to some reasons.\n",
      "Thank You\n",
      "Regards: Talha Ashfaq\n",
      "\n",
      "Asslam O Alaikum!\n",
      "Dear Haseeb Ahmad\n",
      "i am really Sorry to say that i can't invite you to the dinner due to some reasons.\n",
      "Thank You\n",
      "Regards: Talha Ashfaq\n",
      "\n",
      "Asslam O Alaikum!\n",
      "Dear Ahsan\n",
      "i am really Sorry to say that i can't invite you to the dinner due to some reasons.\n",
      "Thank You\n",
      "Regards: Talha Ashfaq\n",
      "\n",
      "Asslam O Alaikum!\n",
      "Dear Asif Bodla\n",
      "i am really Sorry to say that i can't invite you to the dinner due to some reasons.\n",
      "Thank You\n",
      "Regards: Talha Ashfaq\n",
      "\n",
      "Asslam O Alaikum!\n",
      "Dear Abdul Ghaffar\n",
      "i am really Sorry to say that i can't invite you to the dinner due to some reasons.\n",
      "Thank You\n",
      "Regards: Talha Ashfaq\n",
      "\n",
      "Asslam O Alaikum!\n",
      "Dear Mukhtar Ali Bodla\n",
      "Hope you are doing well, i am inviting you to the dinner at Grandpalce Marquee Time: 8pm.\n",
      "Thank You\n",
      "Regards: Talha Ashfaq\n",
      "\n",
      "\n",
      "Asslam O Alaikum!\n",
      "Dear Abu Jaan\n",
      "Hope you are doing well, i am inviting you to the dinner at Grandpalce Marquee Time: 8pm.\n",
      "Thank You\n",
      "Regards: Talha Ashfaq\n",
      "\n",
      "\n",
      "Current items in list are: []\n"
     ]
    }
   ],
   "source": [
    "# Printing a message for list of persons to invite them to dinner use for loop to print the messages\n",
    "invitation = [\"Abu Jaan\", \"Abdul Ghaffar\", \"Ahsan\", \"Noman\", \"Sohail\"]\n",
    "for i in invitation[0:5]:\n",
    "    print(f\"Asslam O Alaikum!\\nDear {i}\\nHope you are doing well, i am inviting you to the dinner at Grandpalce Marquee Time: 8pm.\\nThank You\\nRegards: Talha Ashfaq\")\n",
    "    print(\"\\n\")\n",
    "\n",
    "#Exercise 3-5: Changing Guest List\n",
    "print(\"Oo ho! Noman is not coming to the dinner\\n\")\n",
    "invitation.remove(\"Noman\") # use remove method to remove a guest from list\n",
    "invitation.insert(3, \"Haseeb Ahmad\") # use insert method to add a guest to list\n",
    "for i in invitation[0:5]:\n",
    "    print(f\"Asslam O Alaikum!\\nDear {i}\\nHope you are doing well, i am inviting you to the dinner at Grandpalce Marquee Time: 8pm.\\nThank You\\nRegards: Talha Ashfaq\")\n",
    "    print(\"\\n\")\n",
    "\n",
    "# Exercise 3-6: More Guests\n",
    "\n",
    "print(\"i got a bigger table for dinner so i am inviting three more peoples to dinner.\\n\")\n",
    "#Using insert method to add guests to list\n",
    "invitation.insert(0,\"Mukhtar Ali Bodla\")\n",
    "invitation.insert(3,\"Asif Bodla\")\n",
    "invitation.append(\"Hamid Bodla\")\n",
    "\n",
    "for i in invitation[0:8]:\n",
    "    print(f\"Asslam O Alaikum!\\nDear {i}\\nHope you are doing well, i am inviting you to the dinner at Grandpalce Marquee Time: 8pm.\\nThank You\\nRegards: Talha Ashfaq\")\n",
    "    print(\"\\n\")\n",
    "\n",
    "# Exercise 3-7: Shrinking Guest List\n",
    "\n",
    "print(\"you can invite only two people for dinner\\n\")\n",
    "\n",
    "\n",
    "i = 0\n",
    "#using pop method in while loop to remove guests from list\n",
    "while len(invitation) > 2:\n",
    "    print(f\"Asslam O Alaikum!\\nDear {invitation.pop()}\\ni am really Sorry to say that i can't invite you to the dinner due to some reasons.\\nThank You\\nRegards: Talha Ashfaq\\n\")\n",
    "    i+=1\n",
    "\n",
    "for i in invitation:\n",
    "    print(f\"Asslam O Alaikum!\\nDear {i}\\nHope you are doing well, i am inviting you to the dinner at Grandpalce Marquee Time: 8pm.\\nThank You\\nRegards: Talha Ashfaq\")\n",
    "    print(\"\\n\")\n",
    "invitation2 = invitation.copy() # using copy method to make a copy of list\n",
    "del invitation[0:] # using del to delete guests from list. \n",
    "print(F\"Current items in list are: {invitation}\")\n",
    "\n",
    "\n",
    " \n"
   ]
  },
  {
   "cell_type": "markdown",
   "metadata": {},
   "source": [
    "Exercise 3-8: Seeing the World"
   ]
  },
  {
   "cell_type": "code",
   "execution_count": 6,
   "metadata": {},
   "outputs": [
    {
     "name": "stdout",
     "output_type": "stream",
     "text": [
      "['Makkah', 'Madinah', 'Al-Aqsa Mosque', 'Murree', 'Derawar Fort']\n",
      "List in alphabetical order: ['Al-Aqsa Mosque', 'Derawar Fort', 'Madinah', 'Makkah', 'Murree']\n",
      "Original ordered list: ['Makkah', 'Madinah', 'Al-Aqsa Mosque', 'Murree', 'Derawar Fort']\n",
      "Reverse alphabatical order: ['Murree', 'Makkah', 'Madinah', 'Derawar Fort', 'Al-Aqsa Mosque']\n",
      "Original ordered list: ['Makkah', 'Madinah', 'Al-Aqsa Mosque', 'Murree', 'Derawar Fort']\n",
      "List with changed order: ['Derawar Fort', 'Murree', 'Al-Aqsa Mosque', 'Madinah', 'Makkah']\n",
      "List changed to its original order: ['Makkah', 'Madinah', 'Al-Aqsa Mosque', 'Murree', 'Derawar Fort']\n",
      "Changing list to alphabetical order: ['Al-Aqsa Mosque', 'Derawar Fort', 'Madinah', 'Makkah', 'Murree']\n",
      "Changing list to reverse alphabetical order: ['Murree', 'Makkah', 'Madinah', 'Derawar Fort', 'Al-Aqsa Mosque']\n"
     ]
    }
   ],
   "source": [
    "locations = [\"Makkah\", \"Madinah\",\"Al-Aqsa Mosque\",\"Murree\",\"Derawar Fort\"]\n",
    "print(locations)\n",
    "a = sorted(locations) # using sorted method to print list in alphabetical order without modifying the actual list.\n",
    "print(f\"List in alphabetical order: {a}\")\n",
    "print(f\"Original ordered list: {locations}\")\n",
    "r = sorted(locations,reverse=True) #using sorted method again to print list in reverse-alphabetical order without changing the order of the original list.\n",
    "print(f\"Reverse alphabatical order: {r}\")\n",
    "print(f\"Original ordered list: {locations}\")\n",
    "\n",
    "locations.reverse() #using reverse method to change the order of the list.\n",
    "print(f\"List with changed order: {locations}\")\n",
    "\n",
    "locations.reverse() #using reverse method again to change the order of the list to its original order.\n",
    "print(f\"List changed to its original order: {locations}\")\n",
    "\n",
    "locations.sort() #using sort method to change your list so it's stored in alphabetical order and its order has been changed.\n",
    "print(f\"Changing list to alphabetical order: {locations}\")\n",
    "\n",
    "locations.sort(reverse=True) #using sort method to change your list in reverse alphabetical order and its order has changed.\n",
    "print(f\"Changing list to reverse alphabetical order: {locations}\")\n",
    "\n"
   ]
  },
  {
   "cell_type": "markdown",
   "metadata": {},
   "source": [
    "Exercise 3-9: Dinner Guests"
   ]
  },
  {
   "cell_type": "code",
   "execution_count": 7,
   "metadata": {},
   "outputs": [
    {
     "name": "stdout",
     "output_type": "stream",
     "text": [
      "Number of peoples i am inviting to dinner are: 2\n"
     ]
    }
   ],
   "source": [
    "#using len method to print a message indicating the number of people you’re inviting to dinner.\n",
    "print(f\"Number of peoples i am inviting to dinner are: {len(invitation2)}\")"
   ]
  },
  {
   "cell_type": "markdown",
   "metadata": {},
   "source": [
    "Exercise 3-10: Every Function"
   ]
  },
  {
   "cell_type": "code",
   "execution_count": 8,
   "metadata": {},
   "outputs": [
    {
     "name": "stdout",
     "output_type": "stream",
     "text": [
      "id of list is: 1815247556096\n",
      "A copy of rivers list: ['Ravi', 'Chenab', 'Jehlum', 'Satluj', 'Sindh']\n",
      "length of list is: 5\n",
      "inserting a new river name in list: ['Ravi', 'Chenab', 'Jehlum', 'Byas', 'Satluj', 'Sindh']\n",
      "a new river name is appended at end of list: ['Ravi', 'Chenab', 'Jehlum', 'Byas', 'Satluj', 'Sindh', 'Kabul River']\n",
      "Removing a river name from list: ['Ravi', 'Chenab', 'Jehlum', 'Satluj', 'Sindh', 'Kabul River']\n",
      "Removing a river name from end of list: ['Ravi', 'Chenab', 'Jehlum', 'Satluj', 'Sindh']\n",
      "get a slice of three names from list: ['Ravi', 'Chenab', 'Jehlum']\n"
     ]
    }
   ],
   "source": [
    "rivers = [\"Ravi\",\"Chenab\",\"Jehlum\",\"Satluj\",\"Sindh\"]\n",
    "\n",
    "# id method()\n",
    "\n",
    "print(f\"id of list is: {id(rivers)}\")\n",
    "\n",
    "# Copy method()\n",
    "\n",
    "rivers2 = rivers.copy()\n",
    "print(f\"A copy of rivers list: {rivers2}\")\n",
    "\n",
    "# length method()\n",
    "\n",
    "print(f\"length of list is: {len(rivers)}\")\n",
    "\n",
    "# insert method()\n",
    "rivers.insert(3,\"Byas\")\n",
    "print(f\"inserting a new river name in list: {rivers}\")\n",
    "\n",
    "# append method()\n",
    "\n",
    "rivers.append(\"Kabul River\")\n",
    "print(f\"a new river name is appended at end of list: {rivers}\")\n",
    "\n",
    "# remove method()\n",
    "\n",
    "rivers.remove(\"Byas\")\n",
    "print(f\"Removing a river name from list: {rivers}\")\n",
    "\n",
    "# pop method()\n",
    "\n",
    "rivers.pop()\n",
    "print(f\"Removing a river name from end of list: {rivers}\")\n",
    "\n",
    "# slice method()\n",
    "\n",
    "print(f\"get a slice of three names from list: {rivers[0:3]}\")"
   ]
  },
  {
   "cell_type": "markdown",
   "metadata": {},
   "source": [
    "Exercise 3-11: Intentional Error"
   ]
  },
  {
   "cell_type": "code",
   "execution_count": 9,
   "metadata": {},
   "outputs": [
    {
     "name": "stdout",
     "output_type": "stream",
     "text": [
      "index Error will not occur if i run this code: Mukhtar Ali Bodla\n"
     ]
    }
   ],
   "source": [
    "#print(f\"index Error occur if i run this code: {invitation[2]}\")\n",
    "\n",
    "print(f\"index Error will not occur if i run this code: {invitation2[0]}\")"
   ]
  }
 ],
 "metadata": {
  "kernelspec": {
   "display_name": "Python 3",
   "language": "python",
   "name": "python3"
  },
  "language_info": {
   "codemirror_mode": {
    "name": "ipython",
    "version": 3
   },
   "file_extension": ".py",
   "mimetype": "text/x-python",
   "name": "python",
   "nbconvert_exporter": "python",
   "pygments_lexer": "ipython3",
   "version": "3.13.1"
  }
 },
 "nbformat": 4,
 "nbformat_minor": 2
}
